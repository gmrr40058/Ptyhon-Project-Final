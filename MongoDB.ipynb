{
 "cells": [
  {
   "cell_type": "code",
   "execution_count": 1,
   "id": "0e742b8b",
   "metadata": {},
   "outputs": [],
   "source": [
    "import pymongo"
   ]
  },
  {
   "cell_type": "code",
   "execution_count": 3,
   "id": "7739a788",
   "metadata": {},
   "outputs": [
    {
     "data": {
      "text/plain": [
       "MongoClient(host=['localhost:27017'], document_class=dict, tz_aware=False, connect=True)"
      ]
     },
     "execution_count": 3,
     "metadata": {},
     "output_type": "execute_result"
    }
   ],
   "source": [
    "from pymongo import MongoClient\n",
    "client = MongoClient()\n",
    "client"
   ]
  },
  {
   "cell_type": "code",
   "execution_count": 5,
   "id": "378afdec",
   "metadata": {},
   "outputs": [],
   "source": [
    "client = MongoClient(host=\"localhost\", port=27017)"
   ]
  },
  {
   "cell_type": "code",
   "execution_count": 6,
   "id": "726008e2",
   "metadata": {},
   "outputs": [],
   "source": [
    "client = MongoClient(\"mongodb://localhost:27017\")"
   ]
  },
  {
   "cell_type": "code",
   "execution_count": 7,
   "id": "7e2ba760",
   "metadata": {},
   "outputs": [],
   "source": [
    "db_blog = client['blogdb']"
   ]
  },
  {
   "cell_type": "code",
   "execution_count": 8,
   "id": "c3679ec5",
   "metadata": {},
   "outputs": [
    {
     "name": "stdout",
     "output_type": "stream",
     "text": [
      "Database(MongoClient(host=['localhost:27017'], document_class=dict, tz_aware=False, connect=True), 'blogdb')\n"
     ]
    }
   ],
   "source": [
    "print(db_blog)"
   ]
  },
  {
   "cell_type": "code",
   "execution_count": 9,
   "id": "d568bd23",
   "metadata": {},
   "outputs": [
    {
     "name": "stdout",
     "output_type": "stream",
     "text": [
      "['admin', 'config', 'local']\n"
     ]
    }
   ],
   "source": [
    "print(client.list_database_names())"
   ]
  },
  {
   "cell_type": "code",
   "execution_count": 10,
   "id": "cb9abe50",
   "metadata": {},
   "outputs": [],
   "source": [
    "coll_posts = db_blog[\"posts\"]"
   ]
  },
  {
   "cell_type": "code",
   "execution_count": 11,
   "id": "20ffe02a",
   "metadata": {},
   "outputs": [
    {
     "name": "stdout",
     "output_type": "stream",
     "text": [
      "Collection(Database(MongoClient(host=['localhost:27017'], document_class=dict, tz_aware=False, connect=True), 'blogdb'), 'posts')\n"
     ]
    }
   ],
   "source": [
    "print(coll_posts)"
   ]
  },
  {
   "cell_type": "code",
   "execution_count": 12,
   "id": "4927ab41",
   "metadata": {},
   "outputs": [
    {
     "name": "stdout",
     "output_type": "stream",
     "text": [
      "[]\n"
     ]
    }
   ],
   "source": [
    "print(db_blog.list_collection_names())"
   ]
  },
  {
   "cell_type": "code",
   "execution_count": 13,
   "id": "c595b9a4",
   "metadata": {},
   "outputs": [],
   "source": [
    "post_1 = {\n",
    " \"author\": \"Jack\",\n",
    " \"title\": \"Introduction to MongoDB with Python\",\n",
    " \"tags\": [\"mongodb\", \"python\", \"pymongo\"]\n",
    "}"
   ]
  },
  {
   "cell_type": "code",
   "execution_count": 14,
   "id": "20139549",
   "metadata": {},
   "outputs": [],
   "source": [
    "post_1 = {\n",
    " \"author\": \"Jack\",\n",
    " \"title\": \"Introduction to MongoDB with Python\",\n",
    " \"tags\": [\"mongodb\", \"python\", \"pymongo\"]\n",
    "}"
   ]
  },
  {
   "cell_type": "code",
   "execution_count": 15,
   "id": "577b9293",
   "metadata": {},
   "outputs": [],
   "source": [
    "insert_one_result = coll_posts.insert_one(post_1)"
   ]
  },
  {
   "cell_type": "code",
   "execution_count": null,
   "id": "5a347212",
   "metadata": {},
   "outputs": [],
   "source": []
  }
 ],
 "metadata": {
  "kernelspec": {
   "display_name": "Python 3 (ipykernel)",
   "language": "python",
   "name": "python3"
  },
  "language_info": {
   "codemirror_mode": {
    "name": "ipython",
    "version": 3
   },
   "file_extension": ".py",
   "mimetype": "text/x-python",
   "name": "python",
   "nbconvert_exporter": "python",
   "pygments_lexer": "ipython3",
   "version": "3.11.0"
  }
 },
 "nbformat": 4,
 "nbformat_minor": 5
}
